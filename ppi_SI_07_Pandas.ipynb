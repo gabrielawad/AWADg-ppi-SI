{
  "nbformat": 4,
  "nbformat_minor": 0,
  "metadata": {
    "colab": {
      "provenance": [],
      "toc_visible": true,
      "authorship_tag": "ABX9TyP+khRW1ljU4Q2tZPpfDMQB",
      "include_colab_link": true
    },
    "kernelspec": {
      "name": "python3",
      "display_name": "Python 3"
    }
  },
  "cells": [
    {
      "cell_type": "markdown",
      "metadata": {
        "id": "view-in-github",
        "colab_type": "text"
      },
      "source": [
        "<a href=\"https://colab.research.google.com/github/gabrielawad/ppi-SI/blob/main/ppi_SI_07_Pandas.ipynb\" target=\"_parent\"><img src=\"https://colab.research.google.com/assets/colab-badge.svg\" alt=\"Open In Colab\"/></a>"
      ]
    },
    {
      "cell_type": "markdown",
      "source": [
        "## «*El mundo exige resultados. No cuentes a otros tus dolores del parto. Muéstrales al niño.*»\n",
        "\n",
        "### [Indira Gandhi](https://es.wikipedia.org/wiki/Indira_Gandhi)"
      ],
      "metadata": {
        "id": "bJtz1A8wSiah"
      }
    },
    {
      "cell_type": "markdown",
      "metadata": {
        "id": "mCkyuX8p2SYu"
      },
      "source": [
        "# ppi_SI_07_Pandas\n",
        "\n",
        "Actividad individual.\n",
        "\n",
        "Utilice el dataset seleccionado en **SI01 Repositorio csv de Kaggle**.\n",
        "\n",
        "Diligencie las casillas indicadas siguiendo las normas de estilo del PEP8."
      ]
    },
    {
      "cell_type": "markdown",
      "source": [
        "# Preparación del ejercicio\n",
        "\n",
        "*   Importe las librerías requeridas\n",
        "*   Lea el dataset a utilizar desde una url\n",
        "\n",
        "Sugerencia: suba el dataset a Googledrive y luego publíquelo como página web. El siguiente enlace le indica cómo hacerlo: [Cómo publicar archivos de Documentos, Hojas de cálculo, Presentaciones y Formularios de Google](https://support.google.com/docs/answer/183965?hl=es-419&co=GENIE.Platform%3DDesktop).\n",
        "\n",
        "Nota: si lo desea puede utilizar otro método para obtener la url del dataset.\n",
        "\n"
      ],
      "metadata": {
        "id": "rP2Y7el2JAp5"
      }
    },
    {
      "cell_type": "code",
      "source": [
        "# Escriba aquí su código\n",
        "\n",
        "# Importar las librerías necesarias\n",
        "\n",
        "\n",
        "# Conocer la versiones de las librerías instaladas\n",
        "\n",
        "\n",
        "# Guardar en la variable 'ruta' la url del dataset \n",
        "ruta = \n",
        "\n",
        "# Cargar el dataset a partir de la ruta establecida\n",
        "\n",
        "\n",
        "# Verificar la lectura del dataset\n"
      ],
      "metadata": {
        "id": "WDXlcxw2LUl5"
      },
      "execution_count": null,
      "outputs": []
    },
    {
      "cell_type": "markdown",
      "source": [
        "# Explorar el dataset\n",
        "\n",
        "Muestre las principales características del dataset utilizando pandas.\n",
        "\n",
        "En particular muestre los nombres de las columnas y sus tipos; el índice del dataset; la forma del dataset."
      ],
      "metadata": {
        "id": "dCNcf3jj8NT6"
      }
    },
    {
      "cell_type": "code",
      "source": [
        "# Escriba su código aquí\n"
      ],
      "metadata": {
        "id": "FEiDpoQ48JyJ"
      },
      "execution_count": null,
      "outputs": []
    },
    {
      "cell_type": "markdown",
      "source": [
        "# Transformar el dataset"
      ],
      "metadata": {
        "id": "bFlwT6hK85sn"
      }
    },
    {
      "cell_type": "markdown",
      "source": [
        "## df_00\n",
        "\n",
        "Cree el df_00 con las siguientes características:\n",
        "\n",
        "Diez columnas (dentro de las diez columnas deben estar la primera y la última columna del dataset original).\n",
        "\n",
        "Diez filas (las filas deben corresponder a las cinco primeras filas y las cinco últimas filas del dataset original).\n",
        "\n",
        "Muestre el resultado y las características del DataFrame."
      ],
      "metadata": {
        "id": "hZT4gmkC9BUO"
      }
    },
    {
      "cell_type": "code",
      "source": [
        "# Escriba su código aquí\n"
      ],
      "metadata": {
        "id": "CrCNnQf59Dvo"
      },
      "execution_count": null,
      "outputs": []
    },
    {
      "cell_type": "markdown",
      "metadata": {
        "id": "Ps7TrVdHnUvw"
      },
      "source": [
        "## df_01\n",
        "\n",
        "Modifique el índice del df_00 creado en el paso anterior.\n",
        "\n",
        "Opción 1: utilice una de las columnas de df_00 como el nuevo índice.\n",
        "\n",
        "Opción 2: cree el índice a partir de una secuencia cronológica.\n",
        "\n",
        "Muestre el resultado y las características del DataFrame."
      ]
    },
    {
      "cell_type": "code",
      "source": [
        "# Escriba su código aquí\n"
      ],
      "metadata": {
        "id": "vzgQS4tO_nry"
      },
      "execution_count": null,
      "outputs": []
    },
    {
      "cell_type": "markdown",
      "source": [
        "## df_02\n",
        "\n",
        "Cambie los nombres de las columnas de df_01 a \"Primera\", \"segunda\", etcétera.\n",
        "\n",
        "Muestre el resultado y las características del DataFrame."
      ],
      "metadata": {
        "id": "MEfmPlGL_ocW"
      }
    },
    {
      "cell_type": "code",
      "source": [
        "# Escriba su código aquí\n"
      ],
      "metadata": {
        "id": "JgFBI-6sAXRi"
      },
      "execution_count": null,
      "outputs": []
    },
    {
      "cell_type": "markdown",
      "source": [
        "## df_03\n",
        "\n",
        "Utilizando el método **loc** seleccione los elementos que se encuentran entre la tercera y la sexta fila y en las columnas cuarta, quinta y octava de df_02.\n",
        "\n",
        "Muestre el resultado y las características del DataFrame."
      ],
      "metadata": {
        "id": "Xk2C7EimAhwQ"
      }
    },
    {
      "cell_type": "code",
      "source": [
        "# Escriba su código aquí\n"
      ],
      "metadata": {
        "id": "HxiFE6FkBTy6"
      },
      "execution_count": null,
      "outputs": []
    },
    {
      "cell_type": "markdown",
      "source": [
        "## df_04\n",
        "\n",
        "Utilizando el método **iloc** seleccione los elementos que se encuentran entre la tercera y la sexta fila y en las columnas cuarta, quinta y octava de df_02.\n",
        "\n",
        "Muestre el resultado y las características del DataFrame."
      ],
      "metadata": {
        "id": "0hXp2oN_BVap"
      }
    },
    {
      "cell_type": "code",
      "source": [
        "# Escriba su código aquí\n"
      ],
      "metadata": {
        "id": "TonF9r9RBhRE"
      },
      "execution_count": null,
      "outputs": []
    },
    {
      "cell_type": "markdown",
      "source": [
        "## df_05\n",
        "\n",
        "Calcule el promedio de una de las columnas numéricas de df_02.\n",
        "\n",
        "Cree el DataFrame df_05 conservando todas las columnas de df_02 y seleccionando los valores superiores al promedio en la columna numérica que tomó como referencia para el ejercicio.\n",
        "\n",
        "Muestre el resultado y las características del DataFrame."
      ],
      "metadata": {
        "id": "6m4cwPKxBiLU"
      }
    },
    {
      "cell_type": "code",
      "source": [
        "# Escriba su código aquí\n"
      ],
      "metadata": {
        "id": "CAZgcumWC6Of"
      },
      "execution_count": null,
      "outputs": []
    },
    {
      "cell_type": "markdown",
      "source": [
        "## df_06\n",
        "\n",
        "Seleccione una columna de df_02 que contenga una variable categórica (si no hay variables categóricas cree una columna con variables categóricas a partir de una columna numérica de df_02).\n",
        "\n",
        "Utilice el método **groupby** para analizar la información de df_02 a partir de la variable categórica seleccionada.\n",
        "\n",
        "Muestre el resultado y las características del DataFrame."
      ],
      "metadata": {
        "id": "VHi0_cAODjvM"
      }
    },
    {
      "cell_type": "code",
      "source": [
        "# Escriba su código aquí\n"
      ],
      "metadata": {
        "id": "hW6O_QNQDnbq"
      },
      "execution_count": null,
      "outputs": []
    },
    {
      "cell_type": "markdown",
      "source": [
        "## df_07\n",
        "\n",
        "Cree una tabla dinámica, utilizando el método ***pivottable**, para analizar la información de df_02\n",
        "\n",
        "Muestre el resultado y las características del DataFrame."
      ],
      "metadata": {
        "id": "5TvYWBQ5DpOR"
      }
    },
    {
      "cell_type": "code",
      "source": [
        "# Escriba su código aquí\n"
      ],
      "metadata": {
        "id": "SOr5DFVZDsqk"
      },
      "execution_count": null,
      "outputs": []
    }
  ]
}