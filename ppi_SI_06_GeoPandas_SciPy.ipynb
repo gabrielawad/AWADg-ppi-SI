{
  "nbformat": 4,
  "nbformat_minor": 0,
  "metadata": {
    "colab": {
      "provenance": [],
      "authorship_tag": "ABX9TyN5ubI2I2szxJSky8MdAXjA",
      "include_colab_link": true
    },
    "kernelspec": {
      "name": "python3",
      "display_name": "Python 3"
    },
    "language_info": {
      "name": "python"
    }
  },
  "cells": [
    {
      "cell_type": "markdown",
      "metadata": {
        "id": "view-in-github",
        "colab_type": "text"
      },
      "source": [
        "<a href=\"https://colab.research.google.com/github/gabrielawad/ppi-SI/blob/main/ppi_SI_06_GeoPandas_SciPy.ipynb\" target=\"_parent\"><img src=\"https://colab.research.google.com/assets/colab-badge.svg\" alt=\"Open In Colab\"/></a>"
      ]
    },
    {
      "cell_type": "markdown",
      "source": [
        "## «*Quien no se mueve, no siente las cadenas*».\n",
        "### [Rosa de Luxemburgo](https://es.wikipedia.org/wiki/Rosa_Luxemburgo)"
      ],
      "metadata": {
        "id": "wtIGtB_l9IjO"
      }
    },
    {
      "cell_type": "markdown",
      "source": [
        "# ppi_SI_06_GeoPandas_SciPy\n",
        "\n",
        "Actividad individual.\n",
        "\n",
        "Utilice el dataset seleccionado en **SI02 Repositorio datos geoespaciales de Kaggle**.\n",
        "\n",
        "Diligencie las casillas indicadas siguiendo las normas de estilo del PEP8."
      ],
      "metadata": {
        "id": "yVT-hh2Q9NGp"
      }
    },
    {
      "cell_type": "markdown",
      "source": [
        "# Instalar GeoPandas\n",
        "\n",
        "GeoPandas no es una librería nativa de Python por lo que **requiere ser instalada antes de ser invocada**.\n"
      ],
      "metadata": {
        "id": "jsS66BmAqzXm"
      }
    },
    {
      "cell_type": "code",
      "source": [
        "# Instalar GeoPandas\n",
        "!pip install geopandas"
      ],
      "metadata": {
        "id": "EIOy-w_RqzXn"
      },
      "execution_count": null,
      "outputs": []
    },
    {
      "cell_type": "markdown",
      "source": [
        "# Preparación del ejercicio\n",
        "\n",
        "*   Importe las librerías requeridas\n",
        "*   Lea el dataset a utilizar desde una url\n",
        "\n",
        "Sugerencia: suba el dataset a Googledrive y luego publíquelo como página web. El siguiente enlace le indica cómo hacerlo: [Cómo publicar archivos de Documentos, Hojas de cálculo, Presentaciones y Formularios de Google](https://support.google.com/docs/answer/183965?hl=es-419&co=GENIE.Platform%3DDesktop).\n",
        "\n",
        "Nota: si lo desea puede utilizar otro método para obtener la url del dataset.\n",
        "\n"
      ],
      "metadata": {
        "id": "rP2Y7el2JAp5"
      }
    },
    {
      "cell_type": "code",
      "source": [
        "# Escriba aquí su código\n",
        "\n",
        "# Importar las librerías necesarias\n",
        "\n",
        "\n",
        "# Conocer la versiones de las librerías instaladas\n",
        "\n",
        "\n",
        "# Guardar en la variable 'ruta' la url del dataset \n",
        "ruta = \n",
        "\n",
        "# Cargar el dataset a partir de la ruta establecida\n",
        "\n",
        "\n",
        "# Verificar la lectura del dataset\n"
      ],
      "metadata": {
        "id": "WDXlcxw2LUl5"
      },
      "execution_count": null,
      "outputs": []
    },
    {
      "cell_type": "markdown",
      "source": [
        "## '00.  Mostrar datos\n",
        "\n",
        "Ubique en un mapa las coordenadas de los puntos contenidos en el dataset."
      ],
      "metadata": {
        "id": "FSzCK_-3sKGz"
      }
    },
    {
      "cell_type": "code",
      "source": [
        "# Escriba su código aquí\n"
      ],
      "metadata": {
        "id": "tosynjrcsh1X"
      },
      "execution_count": null,
      "outputs": []
    },
    {
      "cell_type": "markdown",
      "source": [
        "## '01. Seleccionar datos\n",
        "\n",
        "Ubique en un mapa los cinco puntos más alejados del centro del dataset."
      ],
      "metadata": {
        "id": "M8V4dmK9svnv"
      }
    },
    {
      "cell_type": "code",
      "source": [
        "# Escriba su código aquí\n"
      ],
      "metadata": {
        "id": "EaQDHF6rtDDW"
      },
      "execution_count": null,
      "outputs": []
    },
    {
      "cell_type": "markdown",
      "source": [
        "## '02. Distancia euclidiana\n",
        "\n",
        "Calcule la distancia euclideana para los puntos del dataset. Luego indique el promedio de las distancias, la distancia mínima y la distancia máxima entre dos puntos. Muestre el par de coordenadas cuya distancia es mínima y el par de coordenadas cuya distancia es mínima."
      ],
      "metadata": {
        "id": "I1t4ZlpquKcw"
      }
    },
    {
      "cell_type": "code",
      "source": [
        "# Escriba su código aquí\n"
      ],
      "metadata": {
        "id": "4Tf0QQmlkOde"
      },
      "execution_count": null,
      "outputs": []
    },
    {
      "cell_type": "markdown",
      "source": [
        "## '03. Distancia de Manhattan\n",
        "\n",
        "Calcule la distancia de Manhattan para los puntos del dataset. Luego indique el promedio de las distancias, la distancia mínima y la distancia máxima entre dos puntos. Muestre el par de coordenadas cuya distancia es mínima y el par de coordenadas cuya distancia es mínima."
      ],
      "metadata": {
        "id": "muatxJcDuevC"
      }
    },
    {
      "cell_type": "code",
      "source": [
        "# Escriba su código aquí\n"
      ],
      "metadata": {
        "id": "-HukYMW9uuwj"
      },
      "execution_count": null,
      "outputs": []
    },
    {
      "cell_type": "markdown",
      "source": [
        "## '04. Distancia de coseno\n",
        "\n",
        "Calcule la distancia de coseno para los puntos del dataset. Luego indique el promedio de las distancias, la distancia mínima y la distancia máxima entre dos puntos. Muestre el par de coordenadas cuya distancia es mínima y el par de coordenadas cuya distancia es mínima."
      ],
      "metadata": {
        "id": "TdD9mSQSuvO7"
      }
    },
    {
      "cell_type": "code",
      "source": [
        "# Escriba su código aquí\n"
      ],
      "metadata": {
        "id": "4LS4mXCMu1h_"
      },
      "execution_count": null,
      "outputs": []
    },
    {
      "cell_type": "markdown",
      "source": [
        "## '05. Triangulación de Delaunay\n",
        "\n",
        "Aplique la [Triangulación de Delaunay](https://en.wikipedia.org/wiki/Delaunay_triangulation) para los puntos que se encuentran en el dataset."
      ],
      "metadata": {
        "id": "2HSQWKFPu2A2"
      }
    },
    {
      "cell_type": "code",
      "source": [
        "# Escriba su código aquí\n"
      ],
      "metadata": {
        "id": "7WctTYdzvNF6"
      },
      "execution_count": null,
      "outputs": []
    },
    {
      "cell_type": "markdown",
      "source": [
        "## '06. Casco convexo\n",
        "\n",
        "Calcule y muestre el casco convexo para los puntos que se encuentran en el dataset."
      ],
      "metadata": {
        "id": "bGV5dC6JvNx_"
      }
    },
    {
      "cell_type": "code",
      "source": [
        "# Escriba su código aquí\n"
      ],
      "metadata": {
        "id": "JPSflMWvv6g4"
      },
      "execution_count": null,
      "outputs": []
    },
    {
      "cell_type": "markdown",
      "source": [
        "## '07. Sumatoria de mínimos cuadrados\n",
        "\n",
        "Calcule la sumatoria de mínimos cuadrados para los puntos que se encuentran en el dataset."
      ],
      "metadata": {
        "id": "TJIVguKOv_jv"
      }
    },
    {
      "cell_type": "code",
      "source": [
        "# Escriba su código aquí\n"
      ],
      "metadata": {
        "id": "-2hCB7BdwGmm"
      },
      "execution_count": null,
      "outputs": []
    },
    {
      "cell_type": "markdown",
      "source": [
        "## '08. Cluster\n",
        "\n",
        "Calcule el agrupamiento (cluster) de nivel tres para los puntos que se encuentran en el dataset."
      ],
      "metadata": {
        "id": "XS8lm0oFwHOa"
      }
    },
    {
      "cell_type": "code",
      "source": [
        "# Escriba su código aquí\n"
      ],
      "metadata": {
        "id": "PxJA643RwVTn"
      },
      "execution_count": null,
      "outputs": []
    }
  ]
}