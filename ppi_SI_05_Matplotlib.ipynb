{
  "cells": [
    {
      "cell_type": "markdown",
      "metadata": {
        "id": "view-in-github",
        "colab_type": "text"
      },
      "source": [
        "<a href=\"https://colab.research.google.com/github/gabrielawad/ppi-SI/blob/main/ppi_SI_05_Matplotlib.ipynb\" target=\"_parent\"><img src=\"https://colab.research.google.com/assets/colab-badge.svg\" alt=\"Open In Colab\"/></a>"
      ]
    },
    {
      "cell_type": "markdown",
      "metadata": {
        "id": "QMAHoWA1fF5i"
      },
      "source": [
        "## «*La escuela es la agencia publicitaria que te hace creer que necesitas la sociedad tal como es*».\n",
        "\n",
        "### [Iván ILLICH](https://es.wikipedia.org/wiki/Iv%C3%A1n_Illich)\n"
      ]
    },
    {
      "cell_type": "markdown",
      "metadata": {
        "id": "mCkyuX8p2SYu"
      },
      "source": [
        "# ppi_SI_05_Matplotlib\n",
        "\n",
        "Actividad individual.\n",
        "\n",
        "Utilice el dataset seleccionado en **SI01 Repositorio csv de Kaggle**.\n",
        "\n",
        "Diligencie las casillas indicadas siguiendo las normas de estilo del PEP8."
      ]
    },
    {
      "cell_type": "markdown",
      "source": [
        "# Preparación del ejercicio\n",
        "\n",
        "*   Importe las librerías requeridas\n",
        "*   Lea el dataset a utilizar desde una url\n",
        "\n",
        "Sugerencia: suba el dataset a Googledrive y luego publíquelo como página web. El siguiente enlace le indica cómo hacerlo: [Cómo publicar archivos de Documentos, Hojas de cálculo, Presentaciones y Formularios de Google](https://support.google.com/docs/answer/183965?hl=es-419&co=GENIE.Platform%3DDesktop).\n",
        "\n",
        "Nota: si lo desea puede utilizar otro método para obtener la url del dataset.\n",
        "\n"
      ],
      "metadata": {
        "id": "rP2Y7el2JAp5"
      }
    },
    {
      "cell_type": "code",
      "source": [
        "# Escriba aquí su código\n",
        "\n",
        "# Importar las librerías necesarias\n",
        "\n",
        "\n",
        "# Conocer la versiones de las librerías instaladas\n",
        "\n",
        "\n",
        "# Guardar en la variable 'ruta' la url del dataset \n",
        "ruta = \n",
        "\n",
        "# Cargar el dataset a partir de la ruta establecida\n",
        "\n",
        "\n",
        "# Verificar la lectura del dataset\n"
      ],
      "metadata": {
        "id": "WDXlcxw2LUl5"
      },
      "execution_count": null,
      "outputs": []
    },
    {
      "cell_type": "markdown",
      "metadata": {
        "id": "QW_Mm4jKCdS6"
      },
      "source": [
        "## gráfico 00\n",
        "\n",
        "Seleccione dos columnas numéricas del dataset y haga un gráfico tipo **plot**. Coloque título al gráfico y etiquete los dos ejes."
      ]
    },
    {
      "cell_type": "code",
      "source": [
        "# Escriba su código aquí\n"
      ],
      "metadata": {
        "id": "nE2pB0MJkC2C"
      },
      "execution_count": null,
      "outputs": []
    },
    {
      "cell_type": "markdown",
      "metadata": {
        "id": "W6QXShRFkNcU"
      },
      "source": [
        "## gráfico 01\n",
        "\n",
        "Seleccione cinco columnas numéricas del dataset y haga un gráfico tipo **scatter**. Coloque título al gráfico y etiquete los dos ejes."
      ]
    },
    {
      "cell_type": "code",
      "source": [
        "# Escriba su código aquí\n"
      ],
      "metadata": {
        "id": "iW92NxzXkNcU"
      },
      "execution_count": null,
      "outputs": []
    },
    {
      "cell_type": "markdown",
      "metadata": {
        "id": "P0v4P2F0kNwo"
      },
      "source": [
        "## gráfico 02\n",
        "\n",
        "Seleccione cuatro columnas numéricas del dataset y haga un gráfico tipo **stackplot** (apilable). Coloque título al gráfico, etiquete los dos ejes e incluya una leyenda dentro del gráfico."
      ]
    },
    {
      "cell_type": "code",
      "source": [
        "# Escriba su código aquí\n"
      ],
      "metadata": {
        "id": "lZsJxQfFkNwo"
      },
      "execution_count": null,
      "outputs": []
    },
    {
      "cell_type": "markdown",
      "metadata": {
        "id": "czS_eATdkOCl"
      },
      "source": [
        "## gráfico 03\n",
        "\n",
        "Cree una figura que incluya los gráficos construidos en los puntos anteriores en un mismo espacio."
      ]
    },
    {
      "cell_type": "code",
      "source": [
        "# Escriba su código aquí\n"
      ],
      "metadata": {
        "id": "e7FmUxQSkOCm"
      },
      "execution_count": null,
      "outputs": []
    },
    {
      "cell_type": "markdown",
      "metadata": {
        "id": "KU6uuXQzkOSd"
      },
      "source": [
        "## gráfico 04\n",
        "\n",
        "Seleccione las columnas que considere pertinentes del dataset y haga un gráfico de barras horizontales. Coloque título al gráfico y etiquete los dos ejes."
      ]
    },
    {
      "cell_type": "code",
      "source": [
        "# Escriba su código aquí\n"
      ],
      "metadata": {
        "id": "OfywkIuikOSd"
      },
      "execution_count": null,
      "outputs": []
    },
    {
      "cell_type": "markdown",
      "metadata": {
        "id": "UtOLLCwXkOkI"
      },
      "source": [
        "## gráfico 05\n",
        "\n",
        "Seleccione las columnas que considere pertinentes del dataset y haga un gráfico de barras verticales. Coloque título al gráfico y etiquete los dos ejes."
      ]
    },
    {
      "cell_type": "code",
      "source": [
        "# Escriba su código aquí\n"
      ],
      "metadata": {
        "id": "ZlNOaBLLkOkJ"
      },
      "execution_count": null,
      "outputs": []
    },
    {
      "cell_type": "markdown",
      "metadata": {
        "id": "1ib5GZ3dkO1T"
      },
      "source": [
        "## gráfico 06\n",
        "\n",
        "Seleccione las columnas que considere pertinentes del dataset y haga un histograma. Coloque título al gráfico y etiquete los dos ejes."
      ]
    },
    {
      "cell_type": "code",
      "source": [
        "# Escriba su código aquí\n"
      ],
      "metadata": {
        "id": "FxVa0XD5kO1T"
      },
      "execution_count": null,
      "outputs": []
    },
    {
      "cell_type": "markdown",
      "metadata": {
        "id": "5DV-mlKWkPIt"
      },
      "source": [
        "## gráfico 07\n",
        "\n",
        "Seleccione las columnas que considere pertinentes del dataset y haga un gráfico de torta (**pie chart**). Coloque título al gráfico y etiquete los segmentos del gráfico."
      ]
    },
    {
      "cell_type": "code",
      "source": [
        "# Escriba su código aquí\n"
      ],
      "metadata": {
        "id": "umjrpKHWkPIt"
      },
      "execution_count": null,
      "outputs": []
    },
    {
      "cell_type": "markdown",
      "metadata": {
        "id": "OT7polpGkPbK"
      },
      "source": [
        "## gráfico 08\n",
        "\n",
        "Seleccione las columnas que considere pertinentes del dataset y haga un mapa de calor (**heatmap**). Coloque título al gráfico y etiquete los dos ejes."
      ]
    },
    {
      "cell_type": "code",
      "source": [
        "# Escriba su código aquí\n"
      ],
      "metadata": {
        "id": "e0FH48sgkPbL"
      },
      "execution_count": null,
      "outputs": []
    },
    {
      "cell_type": "markdown",
      "metadata": {
        "id": "ayZ9BjErkVjX"
      },
      "source": [
        "## gráfico 09\n",
        "\n",
        "Seleccione las columnas que considere pertinentes del dataset y haga un gráfico en 3D. Coloque título al gráfico y etiquete los ejes."
      ]
    },
    {
      "cell_type": "code",
      "source": [
        "# Escriba su código aquí\n"
      ],
      "metadata": {
        "id": "ilVolYDxkVjY"
      },
      "execution_count": null,
      "outputs": []
    }
  ],
  "metadata": {
    "colab": {
      "provenance": [],
      "authorship_tag": "ABX9TyOgI10vi2Z/unWp6iEGPeUq",
      "include_colab_link": true
    },
    "kernelspec": {
      "display_name": "Python 3",
      "name": "python3"
    }
  },
  "nbformat": 4,
  "nbformat_minor": 0
}