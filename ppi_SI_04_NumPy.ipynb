{
  "nbformat": 4,
  "nbformat_minor": 0,
  "metadata": {
    "colab": {
      "provenance": [],
      "authorship_tag": "ABX9TyPvmXubnivOZBZkskEFbULS",
      "include_colab_link": true
    },
    "kernelspec": {
      "name": "python3",
      "display_name": "Python 3"
    }
  },
  "cells": [
    {
      "cell_type": "markdown",
      "metadata": {
        "id": "view-in-github",
        "colab_type": "text"
      },
      "source": [
        "<a href=\"https://colab.research.google.com/github/gabrielawad/ppi-SI/blob/main/ppi_SI_04_NumPy.ipynb\" target=\"_parent\"><img src=\"https://colab.research.google.com/assets/colab-badge.svg\" alt=\"Open In Colab\"/></a>"
      ]
    },
    {
      "cell_type": "markdown",
      "source": [
        "## «*Olvidaba que en todo combate entre el fanatismo y el sentido común, pocas veces logra este último imponerse*».\n",
        "### [Marguerite Yourcenar](https://es.wikipedia.org/wiki/Marguerite_Yourcenar)"
      ],
      "metadata": {
        "id": "bDjqO634RdpU"
      }
    },
    {
      "cell_type": "markdown",
      "metadata": {
        "id": "mCkyuX8p2SYu"
      },
      "source": [
        "# ppi_SI_04_NumPy\n",
        "\n",
        "Actividad individual.\n",
        "\n",
        "Utilice el dataset seleccionado en **SI01 Repositorio csv de Kaggle**.\n",
        "\n",
        "Diligencie las casillas indicadas siguiendo las normas de estilo del PEP8."
      ]
    },
    {
      "cell_type": "markdown",
      "source": [
        "# Preparación del ejercicio\n",
        "\n",
        "*   Importe las librerías requeridas\n",
        "*   Lea el dataset a utilizar desde una url\n",
        "\n",
        "Sugerencia: suba el dataset a Googledrive y luego publíquelo como página web. El siguiente enlace le indica cómo hacerlo: [Cómo publicar archivos de Documentos, Hojas de cálculo, Presentaciones y Formularios de Google](https://support.google.com/docs/answer/183965?hl=es-419&co=GENIE.Platform%3DDesktop).\n",
        "\n",
        "Nota: si lo desea puede utilizar otro método para obtener la url del dataset.\n",
        "\n"
      ],
      "metadata": {
        "id": "rP2Y7el2JAp5"
      }
    },
    {
      "cell_type": "code",
      "source": [
        "# Escriba aquí su código\n",
        "\n",
        "# Importar las librerías necesarias\n",
        "\n",
        "\n",
        "# Conocer la versiones de las librerías instaladas\n",
        "\n",
        "\n",
        "# Guardar en la variable 'ruta' la url del dataset \n",
        "ruta = \n",
        "\n",
        "# Cargar el dataset a partir de la ruta establecida\n",
        "\n",
        "\n",
        "# Verificar la lectura del dataset\n"
      ],
      "metadata": {
        "id": "WDXlcxw2LUl5"
      },
      "execution_count": null,
      "outputs": []
    },
    {
      "cell_type": "markdown",
      "source": [
        "# Explorar el dataset\n",
        "\n",
        "Muestre las principales características del dataset."
      ],
      "metadata": {
        "id": "EcsCzNpONXPs"
      }
    },
    {
      "cell_type": "code",
      "source": [
        "# Escriba aquí su código\n"
      ],
      "metadata": {
        "id": "RfYApVxRNj0N"
      },
      "execution_count": null,
      "outputs": []
    },
    {
      "cell_type": "markdown",
      "metadata": {
        "id": "vPfKP832v1lI"
      },
      "source": [
        "# Transformar el dataset\n"
      ]
    },
    {
      "cell_type": "markdown",
      "source": [
        "## arreglo_00\n",
        "\n",
        "Cree el arreglo_00 con las siguientes características:\n",
        "\n",
        "*  seis columnas (dentro de las seis columnas deben estar la primera y la última columna del dataset original)\n",
        "*  veinte filas (las filas deben corresponder a las diez primeras filas y las diez últimas filas del dataset original)\n",
        "\n",
        "Muestre el resultado y las características del arreglo."
      ],
      "metadata": {
        "id": "C8qnYPetOZrJ"
      }
    },
    {
      "cell_type": "code",
      "source": [
        "# Escriba aquí su código\n"
      ],
      "metadata": {
        "id": "sQBykAAQPcOl"
      },
      "execution_count": null,
      "outputs": []
    },
    {
      "cell_type": "markdown",
      "source": [
        "## arreglo_01\n",
        "\n",
        "Cree el arreglo_01 (diez columnas y doce filas) a partir del arreglo_00.\n",
        "\n",
        "Muestre el resultado y las características del arreglo.\n"
      ],
      "metadata": {
        "id": "QAq6pletPk8r"
      }
    },
    {
      "cell_type": "code",
      "metadata": {
        "id": "mOgOJmG7wAl9"
      },
      "source": [
        "# Escriba aquí su código\n"
      ],
      "execution_count": null,
      "outputs": []
    },
    {
      "cell_type": "markdown",
      "metadata": {
        "id": "8VqifPnzyMwO"
      },
      "source": [
        "## arreglo_02\n",
        "\n",
        "Cree el arreglo_02 (cinco columnas y diez filas) a partir del dataset original. Todos los datos deben ser números.\n",
        "\n",
        "Agregue al arreglo_02 lo siguiente:\n",
        "\n",
        "* una columna con todos los valores iguales a cero\n",
        "* una columna con todos los valores iguales a uno\n",
        "* una columna con números aleatorios provenientes de una distribución normal de media 0 y desviación típica 1\n",
        "* una columna con números aleatorios enteros en el intervalo 200 a 300\n",
        "* una columna con números aleatorios binarios (0,1)\n",
        "\n",
        "Muestre el resultado y las características del arreglo."
      ]
    },
    {
      "cell_type": "code",
      "metadata": {
        "id": "20rAG6ONnlxL"
      },
      "source": [
        "# Escriba aquí su código\n"
      ],
      "execution_count": null,
      "outputs": []
    },
    {
      "cell_type": "markdown",
      "source": [
        "# Operaciones con dataset"
      ],
      "metadata": {
        "id": "idd_yKLtVgmu"
      }
    },
    {
      "cell_type": "markdown",
      "metadata": {
        "id": "CJOrRBf9nlxV"
      },
      "source": [
        "## arreglo_03\n",
        "\n",
        "Cree el arreglo_03 como la matriz transpuesta del arreglo_02 obtenido en el ejercicio anterior.\n",
        "\n",
        "Encuentre la inversa del arreglo_03 y multiplíquela por el arreglo_03.\n",
        "\n",
        "Muestre los arreglos obtenidos y las características de cada uno de ellos."
      ]
    },
    {
      "cell_type": "code",
      "source": [
        "# Escriba aquí su código\n"
      ],
      "metadata": {
        "id": "P0eXc0A2VfGI"
      },
      "execution_count": null,
      "outputs": []
    },
    {
      "cell_type": "markdown",
      "source": [
        "## arreglo_04\n",
        "\n",
        "Cree el arreglo_04 como la suma del arreglo_03 con su transpuesta.\n",
        "\n",
        "Muestre el resultado y las características del arreglo."
      ],
      "metadata": {
        "id": "zi_nxZp1V96s"
      }
    },
    {
      "cell_type": "code",
      "metadata": {
        "id": "oJj_vrFbnlxW"
      },
      "source": [
        "# Escriba aquí su código\n"
      ],
      "execution_count": null,
      "outputs": []
    },
    {
      "cell_type": "markdown",
      "source": [
        "## arreglo_05\n",
        "\n",
        "Cree el arreglo_05 a partir del arreglo_04 reemplazando los valores inferiores o iguales a la media por cero, y los valores superiores a la media por cinco.\n",
        "\n",
        "Muestre el resultado y las características del arreglo."
      ],
      "metadata": {
        "id": "DDurE6R_hyrI"
      }
    },
    {
      "cell_type": "code",
      "source": [
        "# Escriba aquí su código\n"
      ],
      "metadata": {
        "id": "B2RFQrlFXNW6"
      },
      "execution_count": null,
      "outputs": []
    },
    {
      "cell_type": "markdown",
      "source": [
        "## arreglo_06\n",
        "\n",
        "Cree el arreglo_06 **juntando de forma horizontal** el arreglo_03 y el arreglo_04.\n",
        "\n",
        "Muestre el resultado y las características del arreglo.\n",
        "\n"
      ],
      "metadata": {
        "id": "u2KW_i-8TxS1"
      }
    },
    {
      "cell_type": "code",
      "source": [
        "# Escriba aquí su código\n"
      ],
      "metadata": {
        "id": "cVaOujCeY_nk"
      },
      "execution_count": null,
      "outputs": []
    },
    {
      "cell_type": "markdown",
      "source": [
        "## arreglo_07\n",
        "\n",
        "Cree el arreglo_07 **juntando de forma vertical** el arreglo_03 y el arreglo_04"
      ],
      "metadata": {
        "id": "L8lgdKHiZEZi"
      }
    },
    {
      "cell_type": "code",
      "source": [
        "# Escriba aquí su código\n"
      ],
      "metadata": {
        "id": "_JBLayQcUsJh"
      },
      "execution_count": null,
      "outputs": []
    }
  ]
}