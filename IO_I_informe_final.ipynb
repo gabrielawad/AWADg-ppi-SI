{
  "nbformat": 4,
  "nbformat_minor": 0,
  "metadata": {
    "colab": {
      "provenance": [],
      "toc_visible": true,
      "authorship_tag": "ABX9TyMnbxREcnsB6l3+WFO5si88",
      "include_colab_link": true
    },
    "kernelspec": {
      "name": "python3",
      "display_name": "Python 3"
    },
    "language_info": {
      "name": "python"
    }
  },
  "cells": [
    {
      "cell_type": "markdown",
      "metadata": {
        "id": "view-in-github",
        "colab_type": "text"
      },
      "source": [
        "<a href=\"https://colab.research.google.com/github/gabrielawad/ppi-SI/blob/main/IO_I_informe_final.ipynb\" target=\"_parent\"><img src=\"https://colab.research.google.com/assets/colab-badge.svg\" alt=\"Open In Colab\"/></a>"
      ]
    },
    {
      "cell_type": "markdown",
      "source": [
        "# Informe final IO I 2023-01\n",
        "\n",
        "Diligencia las casillas indicadas.\n",
        "\n",
        "**No modifique la estructura del archivo.**\n",
        "\n",
        "Plantee y resuelva el problema utilizando [CVXPY](https://www.cvxpy.org/).\n",
        "\n",
        "El código debe ser legible e incluir comentarios. Se recomienda utilizar la guía [PEP 8 – Style Guide for Python Code](https://peps.python.org/pep-0008/)."
      ],
      "metadata": {
        "id": "xEXkvK0O0LJe"
      }
    },
    {
      "cell_type": "markdown",
      "source": [
        "# Integrantes del equipo que participaron en la elaboración del informe\n",
        "\n",
        "Escriba, a continuación, los nombres y los apellidos de las personas que hayan **participado de manera significativa** en la elaboración del informe.\n",
        "\n",
        "1.   \n",
        "2.   \n",
        "3.\n",
        "4."
      ],
      "metadata": {
        "id": "wnCTxb6i0e6N"
      }
    },
    {
      "cell_type": "markdown",
      "source": [
        "# Objetivo del proyecto\n",
        "\n",
        "¿Qué van a minimizar o qué van a maximizar y en qué unidades se mide?"
      ],
      "metadata": {
        "id": "9fLgajWc2IYU"
      }
    },
    {
      "cell_type": "markdown",
      "source": [
        "### Escriba acá el objetivo del proyecto (máximo 50 palabras).\n",
        "\n"
      ],
      "metadata": {
        "id": "QlB9YC282ngL"
      }
    },
    {
      "cell_type": "markdown",
      "source": [
        "# Importante:\n",
        "Los conjuntos de datos correspondientes a coeficientes de costos, coeficientes técnicos y restricciones deben ser leídos desde urls.\n",
        "\n",
        "Sugerencia: suba los datasets a Googledrive y luego publíquelos como página web. El siguiente enlace le indica cómo hacerlo: [Cómo publicar archivos de Documentos, Hojas de cálculo, Presentaciones y Formularios de Google](https://support.google.com/docs/answer/183965?hl=es-419&co=GENIE.Platform%3DDesktop).\n",
        "\n",
        "Nota: si lo desea puede utilizar otro método para obtener las urls de los conjuntos de datos."
      ],
      "metadata": {
        "id": "Qa8SyhOR6sMB"
      }
    },
    {
      "cell_type": "markdown",
      "source": [
        "# Preparación del ejercicio"
      ],
      "metadata": {
        "id": "nHnpwNeq7ebB"
      }
    },
    {
      "cell_type": "code",
      "source": [
        "# Escriba acá el código para importar las librerías requeridas\n"
      ],
      "metadata": {
        "id": "8obDvj_b78eQ"
      },
      "execution_count": null,
      "outputs": []
    },
    {
      "cell_type": "markdown",
      "source": [
        "# Variables de decisión\n",
        "¿Cuáles son las variables de decisión y cuáles son sus unidades de medida?"
      ],
      "metadata": {
        "id": "QGy27SoU2uW0"
      }
    },
    {
      "cell_type": "markdown",
      "source": [
        "### Escriba acá las variables de decisión (mínimo cinco) con sus correspondientes unidades de medida\n",
        "\n"
      ],
      "metadata": {
        "id": "6rsg46CV3ZGk"
      }
    },
    {
      "cell_type": "code",
      "source": [
        "# Escriba acá el código para crear las variables de decisión\n"
      ],
      "metadata": {
        "id": "lhlFKyIP8lBI"
      },
      "execution_count": null,
      "outputs": []
    },
    {
      "cell_type": "markdown",
      "source": [
        "# Coeficientes de costos\n",
        "\n",
        "¿Cuáles son los coeficientes de costos y cuáles sus unidades de medida?"
      ],
      "metadata": {
        "id": "nfkjPzO11-mQ"
      }
    },
    {
      "cell_type": "markdown",
      "source": [
        "### Escriba acá los coeficientes de costos con sus correspondientes unidades de medida\n"
      ],
      "metadata": {
        "id": "bYxmrgvxG8Qb"
      }
    },
    {
      "cell_type": "code",
      "source": [
        "# Escriba acá el código para cargar los coeficientes de costos\n",
        "\n",
        "# Guardar en la variable 'ruta' la url del conjunto de datos \n",
        "# con los coeficientes de costos \n",
        "ruta = \n",
        "\n",
        "# Cargar el conjunto de datos a partir de la ruta establecida\n",
        "\n",
        "\n",
        "# Verificar la lectura del conjunto de datos\n"
      ],
      "metadata": {
        "id": "RGx6Z7Fw32fW"
      },
      "execution_count": null,
      "outputs": []
    },
    {
      "cell_type": "markdown",
      "source": [
        "# Función objetivo"
      ],
      "metadata": {
        "id": "RotGELTj4AMV"
      }
    },
    {
      "cell_type": "code",
      "source": [
        "# Escriba acá el código para crear la función \n"
      ],
      "metadata": {
        "id": "7YSu06Ws4EK6"
      },
      "execution_count": null,
      "outputs": []
    },
    {
      "cell_type": "markdown",
      "source": [
        "# Coeficientes técnicos\n",
        "\n",
        "¿Cuáles son los coeficientes técnicos y cuáles son sus unidades de medida?"
      ],
      "metadata": {
        "id": "rRG9t0W-4PD1"
      }
    },
    {
      "cell_type": "markdown",
      "source": [
        "### Escriba acá los coeficientes técnicos con sus correspondientes unidades de medida\n"
      ],
      "metadata": {
        "id": "M7TTJG1jHLEs"
      }
    },
    {
      "cell_type": "code",
      "source": [
        "# Escriba acá el código para cargar los coeficientes técnicos\n",
        "\n",
        "# Guardar en la variable 'ruta_1' la url del conjunto de datos \n",
        "# con los coeficientes técnicos \n",
        "ruta_1 = \n",
        "\n",
        "# Cargar el conjunto de datos a partir de la ruta establecida\n",
        "\n",
        "\n",
        "# Verificar la lectura del conjunto de datos\n"
      ],
      "metadata": {
        "id": "Zs1HUvPk4Wv4"
      },
      "execution_count": null,
      "outputs": []
    },
    {
      "cell_type": "markdown",
      "source": [
        "# Restricciones\n",
        "\n",
        "¿Cuáles son las restricciones y cuáles son sus unidades de medida?"
      ],
      "metadata": {
        "id": "XlrmY9rM4f2Y"
      }
    },
    {
      "cell_type": "markdown",
      "source": [
        "### Escriba acá las restricciones con sus correspondientes unidades de medida\n"
      ],
      "metadata": {
        "id": "kecH_marHZgn"
      }
    },
    {
      "cell_type": "code",
      "source": [
        "# Escriba acá el código para cargar las restricciones\n",
        "\n",
        "# Guardar en la variable 'ruta_2' la url del conjunto de datos \n",
        "# con las restricciones \n",
        "ruta_2 = \n",
        "\n",
        "# Cargar el conjunto de datos a partir de la ruta establecida\n",
        "\n",
        "\n",
        "# Verificar la lectura del conjunto de datos\n"
      ],
      "metadata": {
        "id": "Ck_QZVgp4iBm"
      },
      "execution_count": null,
      "outputs": []
    },
    {
      "cell_type": "markdown",
      "source": [
        "## Inecuaciones y ecuaciones de las restricciones"
      ],
      "metadata": {
        "id": "Z6EocOcW4kIn"
      }
    },
    {
      "cell_type": "code",
      "source": [
        "# Escriba acá el código para plantear las inecuaciones \n",
        "# y las ecuaciones de las restricciones.\n",
        "# Mínimo diez (10) sin incluir las de no negatividad, enteros y binarios.\n"
      ],
      "metadata": {
        "id": "ad05OTP34-rq"
      },
      "execution_count": null,
      "outputs": []
    },
    {
      "cell_type": "markdown",
      "source": [
        "# Estructuración del problema"
      ],
      "metadata": {
        "id": "mapOEaHp4spo"
      }
    },
    {
      "cell_type": "code",
      "source": [
        "# Escriba acá el código para estructurar el problema\n"
      ],
      "metadata": {
        "id": "_PP37Uwk4zEH"
      },
      "execution_count": null,
      "outputs": []
    },
    {
      "cell_type": "markdown",
      "source": [
        "# Solución del problema"
      ],
      "metadata": {
        "id": "oZ-WyfnK5b0q"
      }
    },
    {
      "cell_type": "code",
      "source": [
        "# Escriba acá el código para solucionar el problema \n",
        "#y mostrar el estado de la solución\n"
      ],
      "metadata": {
        "id": "XcEAnYeN5ghW"
      },
      "execution_count": null,
      "outputs": []
    },
    {
      "cell_type": "markdown",
      "source": [
        "# Resultados\n",
        "\n",
        "Muestre el valor óptimo de la función objetivo"
      ],
      "metadata": {
        "id": "DVM2YTa85uAL"
      }
    },
    {
      "cell_type": "markdown",
      "source": [
        "## Muestre el valor óptimo de la función objetivo"
      ],
      "metadata": {
        "id": "b1hXeVCU5Olr"
      }
    },
    {
      "cell_type": "code",
      "source": [
        "# Escriba acá el código para mostrar el valor óptimo de la función objetivo\n"
      ],
      "metadata": {
        "id": "QMHUuOex5w-T"
      },
      "execution_count": null,
      "outputs": []
    },
    {
      "cell_type": "markdown",
      "source": [
        "## Muestre los valores óptimos de las variables de decisión, junto con sus unidades."
      ],
      "metadata": {
        "id": "3sWBBG6i5DvP"
      }
    },
    {
      "cell_type": "code",
      "source": [
        "# Escriba acá el código para mostrar los valores óptimos de las variables de \n",
        "# decisión, junto con sus unidades\n"
      ],
      "metadata": {
        "id": "o5MI0MPk5JrG"
      },
      "execution_count": null,
      "outputs": []
    },
    {
      "cell_type": "markdown",
      "source": [
        "## Muestre el estado de las restricciones al alcanzar la solución óptima"
      ],
      "metadata": {
        "id": "w7vOb5IK5K_U"
      }
    },
    {
      "cell_type": "code",
      "source": [
        "# Escriba acá el código para mostrar el estado de las restrcciones al\n",
        "# alcanzar la solución óptima, incluya las unidades de medida\n"
      ],
      "metadata": {
        "id": "cAA-6CLb5nyT"
      },
      "execution_count": null,
      "outputs": []
    },
    {
      "cell_type": "markdown",
      "source": [
        "# Análisis de los resultados"
      ],
      "metadata": {
        "id": "wRsqygCu52yA"
      }
    },
    {
      "cell_type": "markdown",
      "source": [
        "### Escriba acá el análisis de los resultados obtenidos (máximo 150 palabras)\n",
        "\n"
      ],
      "metadata": {
        "id": "3MOWkWhO57Q4"
      }
    },
    {
      "cell_type": "markdown",
      "source": [
        "# Fuentes de datos"
      ],
      "metadata": {
        "id": "ZniPABWy6Fn6"
      }
    },
    {
      "cell_type": "markdown",
      "source": [
        "### Escriba acá las fuentes de datos utilizadas para el desarrollo del proyecto"
      ],
      "metadata": {
        "id": "S5DNUTto6IUw"
      }
    }
  ]
}