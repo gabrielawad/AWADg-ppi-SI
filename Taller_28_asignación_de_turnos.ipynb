{
  "nbformat": 4,
  "nbformat_minor": 0,
  "metadata": {
    "colab": {
      "provenance": [],
      "toc_visible": true,
      "authorship_tag": "ABX9TyOoktkOikZChSpdPKZVhb79",
      "include_colab_link": true
    },
    "kernelspec": {
      "name": "python3",
      "display_name": "Python 3"
    },
    "language_info": {
      "name": "python"
    }
  },
  "cells": [
    {
      "cell_type": "markdown",
      "metadata": {
        "id": "view-in-github",
        "colab_type": "text"
      },
      "source": [
        "<a href=\"https://colab.research.google.com/github/gabrielawad/AWADg-ppi-SI/blob/main/Taller_28_asignaci%C3%B3n_de_turnos.ipynb\" target=\"_parent\"><img src=\"https://colab.research.google.com/assets/colab-badge.svg\" alt=\"Open In Colab\"/></a>"
      ]
    },
    {
      "cell_type": "markdown",
      "source": [
        "«*La ausencia de evidencia no es evidencia de ausencia*».\n",
        "\n",
        "[Carl Sagan](https://es.wikipedia.org/wiki/Carl_Sagan)"
      ],
      "metadata": {
        "id": "cVP7FzP2DVfp"
      }
    },
    {
      "cell_type": "markdown",
      "source": [
        "# Taller 28 asignación de turnos\n",
        "\n",
        "Resuelva los siguientes ejercicios de programación en forma algebraica y en forma matricial"
      ],
      "metadata": {
        "id": "mOfyBJq0AXh5"
      }
    },
    {
      "cell_type": "markdown",
      "source": [
        "## Ejercicio 0\n",
        "\n",
        "Un pequeño supermercado funciona con tres turnos diarios: mañana, tarde y noche. Hay cinco empleados disponibles: Ana, Bruno, Carlos, Diana y Elena. Cada uno tiene un costo por hora de trabajo, y la tienda busca minimizar el costo total de la mano de obra mientras asegura que los turnos estén cubiertos. Cada turno tiene una duración de seis horas.\n",
        "\n",
        "Se requieren la siguiente cantidad de empleados por turno:\n",
        "\n",
        "Mañana : 3 empleados\n",
        "\n",
        "Tarde: 4 empleados\n",
        "\n",
        "Noche: 2 empleados\n",
        "\n",
        "\n",
        "El costo por hora de cada empleado es:\n",
        "Ana: \\$9000/hora, Bruno: $9500/hora, Carlos: \\$9200/hora, Diana: \\$9400/hora, Elena: \\$9300/hora.\n",
        "\n",
        "La disponibilidad de empleados es:\n",
        "\n",
        "Ana puede trabajar en la mañana y la tarde, Bruno puede trabajar en la tarde y la noche, Carlos puede trabajar en la mañana y la noche, Diana puede trabajar en la mañana y la tarde, y Elena puede trabajar en la tarde y la noche."
      ],
      "metadata": {
        "id": "VpZf8Sj6A8GI"
      }
    },
    {
      "cell_type": "markdown",
      "source": [
        "### Forma algebraica"
      ],
      "metadata": {
        "id": "iJ0aQ68kAQX2"
      }
    },
    {
      "cell_type": "code",
      "source": [
        "# Escriba aqui su código\n"
      ],
      "metadata": {
        "id": "Np3_NxveAQYE"
      },
      "execution_count": null,
      "outputs": []
    },
    {
      "cell_type": "markdown",
      "source": [
        "### Forma matricial"
      ],
      "metadata": {
        "id": "dGPefmQ0AQYF"
      }
    },
    {
      "cell_type": "code",
      "source": [
        "# Escriba aqui su código\n"
      ],
      "metadata": {
        "id": "MIgHM9smAQYF"
      },
      "execution_count": null,
      "outputs": []
    },
    {
      "cell_type": "markdown",
      "source": [
        "## Ejercicio 1\n",
        "\n",
        "Un restaurante necesita asignar a sus camareros para cubrir el horario de 11 AM a 11 PM todos los días. Los turnos son de cuatro horas cada uno, y el restaurante necesita al menos tres camareros en todo momento. Hay ocho camareros disponibles, cada uno con un límite máximo de horas que pueden trabajar por día y por semana, además de preferencias de turno.\n",
        "\n",
        "Los horarios de los turnos son:\n",
        "\n",
        "Turno 1: 11 AM - 3 PM\n",
        "\n",
        "Turno 2: 3 PM - 7 PM\n",
        "\n",
        "Turno 3: 7 PM - 11 PM\n",
        "\n",
        "Las disponibilidades y restricciones de los camareros son:\n",
        "Camareros 1-3: Pueden trabajar un máximo de 8 horas por día y 40 horas por semana.\n",
        "\n",
        "Camareros 4-6: Pueden trabajar un máximo de 6 horas por día y 30 horas por semana.\n",
        "\n",
        "Camareros 7-8: Pueden trabajar un máximo de 4 horas por día y 20 horas por semana.\n",
        "\n",
        "Las preferencias de turno son:\n",
        "\n",
        "Camareros 1-2: Prefieren trabajar en el turno de la mañana.\n",
        "\n",
        "Camareros 3-4: Prefieren trabajar en el turno de la tarde.\n",
        "\n",
        "Camareros 5-6: Prefieren trabajar en el turno de la noche.\n",
        "\n",
        "Camareros 7-8: No tienen preferencia específica.\n",
        "\n",
        "Ningún camarero puede exceder su límite de horas por día o por semana. Minimizar el total de  horas trabajadas."
      ],
      "metadata": {
        "id": "CCRvCISDCGuA"
      }
    },
    {
      "cell_type": "markdown",
      "source": [
        "### Forma algebraica"
      ],
      "metadata": {
        "id": "R2O27xOnAQiJ"
      }
    },
    {
      "cell_type": "code",
      "source": [
        "# Escriba aqui su código\n"
      ],
      "metadata": {
        "id": "Kg_nmoYMAQiJ"
      },
      "execution_count": null,
      "outputs": []
    },
    {
      "cell_type": "markdown",
      "source": [
        "### Forma matricial"
      ],
      "metadata": {
        "id": "-Ycwd9sQAQiK"
      }
    },
    {
      "cell_type": "code",
      "source": [
        "# Escriba aqui su código\n"
      ],
      "metadata": {
        "id": "zstDmb6NAQiK"
      },
      "execution_count": null,
      "outputs": []
    }
  ]
}